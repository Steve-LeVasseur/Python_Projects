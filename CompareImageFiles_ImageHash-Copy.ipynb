{
 "cells": [
  {
   "cell_type": "markdown",
   "metadata": {},
   "source": [
    "### Purpose\n",
    "Program takes as input a folder of image files and outputs a list of the names of visually similar images within the folder"
   ]
  },
  {
   "cell_type": "code",
   "execution_count": 1,
   "metadata": {
    "scrolled": true
   },
   "outputs": [
    {
     "name": "stdout",
     "output_type": "stream",
     "text": [
      "0.0\n",
      "0\n"
     ]
    }
   ],
   "source": [
    "from PIL import Image\n",
    "import imagehash\n",
    "import os\n",
    "import time\n",
    "\n",
    "start_time = time.time()\n",
    "\n",
    "path1 = \"/Users/13305/Desktop/Newfolder\"\n",
    "cutoff = 5\n",
    "listing = os.listdir(path1)\n",
    "i = 0\n",
    "image_count = 0\n",
    "itera = 0\n",
    "list1 = [0] * 5*len(listing)\n",
    "list2 = [0] * 5*len(listing)\n",
    "cleaner = True\n",
    "while i < len(listing):\n",
    "    image = listing[i]\n",
    "    image_count = image_count + 1\n",
    "    if (image.endswith(\".mp4\") | image.endswith(\".ini\") | image.endswith(\".webm\") | image.endswith(\".webp\")):\n",
    "        i = i + 1\n",
    "        continue\n",
    "    else:\n",
    "        \n",
    "        hash0 = imagehash.average_hash(Image.open(path1 + \"/\" + image))\n",
    "        j = i + 1\n",
    "        i = i + 1\n",
    "        while j < len(listing):\n",
    "            \n",
    "            picture = listing[j]\n",
    "            if picture.endswith(\".mp4\") | picture.endswith(\".ini\") | picture.endswith(\".webm\") | picture.endswith(\".webp\"):\n",
    "                j = j + 1\n",
    "                continue\n",
    "            else:\n",
    "                j = j + 1\n",
    "                hash1 = imagehash.average_hash(Image.open(path1 + \"/\" + picture))\n",
    "        \n",
    "                if hash0 - hash1 < cutoff:\n",
    "\n",
    "                    \n",
    "                    \n",
    "                    print(image)\n",
    "                    print(picture)\n",
    "                    print(\"\")\n",
    "\n",
    "                    \n",
    "print(time.time() - start_time)\n",
    "print(image_count)"
   ]
  },
  {
   "cell_type": "code",
   "execution_count": 2,
   "metadata": {},
   "outputs": [],
   "source": [
    "import pandas as pd\n",
    "\n",
    "for i, j in enumerate(reversed(list1)):\n",
    "    if j:\n",
    "        list1 = list1[:-1*i]\n",
    "        list2 = list2[:-1*i]\n",
    "        break\n",
    "\n",
    "data = {\"f1\":list1, \"f2\":list2}\n",
    "df = pd.DataFrame(data)"
   ]
  },
  {
   "cell_type": "code",
   "execution_count": 8,
   "metadata": {},
   "outputs": [],
   "source": [
    "df.to_csv(\"/Users/\")"
   ]
  },
  {
   "cell_type": "code",
   "execution_count": 3,
   "metadata": {},
   "outputs": [
    {
     "data": {
      "text/plain": [
       "114"
      ]
     },
     "execution_count": 3,
     "metadata": {},
     "output_type": "execute_result"
    }
   ],
   "source": [
    "p1 = \"/Users\"\n",
    "listing = os.listdir(p1)\n",
    "len(listing)"
   ]
  }
 ],
 "metadata": {
  "kernelspec": {
   "display_name": "Python 3",
   "language": "python",
   "name": "python3"
  },
  "language_info": {
   "codemirror_mode": {
    "name": "ipython",
    "version": 3
   },
   "file_extension": ".py",
   "mimetype": "text/x-python",
   "name": "python",
   "nbconvert_exporter": "python",
   "pygments_lexer": "ipython3",
   "version": "3.7.6"
  }
 },
 "nbformat": 4,
 "nbformat_minor": 4
}
